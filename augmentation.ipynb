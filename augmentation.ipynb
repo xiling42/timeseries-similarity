{
 "cells": [
  {
   "cell_type": "code",
   "execution_count": null,
   "metadata": {},
   "outputs": [],
   "source": [
    "def augmentation(x, y, lower_bond, upper_bond):\n",
    "    size = x.shape[0]\n",
    "    new_x = []\n",
    "    new_y = []\n",
    "    if size > limits:\n",
    "        return x, y\n",
    "    for i in range(limits // size):\n",
    "        new_x.append(np.random.uniform(lower_bond, upper_bond, size ))\n",
    "        new_y.apend(y)\n",
    "    x = np.concatenate(new_x, axis=0)\n",
    "    y = np.concatenate(new_y, axis = 0)\n",
    "    return x, y"
   ]
  }
 ],
 "metadata": {
  "kernelspec": {
   "display_name": "Python 3",
   "language": "python",
   "name": "python3"
  },
  "language_info": {
   "codemirror_mode": {
    "name": "ipython",
    "version": 3
   },
   "file_extension": ".py",
   "mimetype": "text/x-python",
   "name": "python",
   "nbconvert_exporter": "python",
   "pygments_lexer": "ipython3",
   "version": "3.7.10"
  }
 },
 "nbformat": 4,
 "nbformat_minor": 2
}
