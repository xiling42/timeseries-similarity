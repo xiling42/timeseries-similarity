{
 "cells": [
  {
   "cell_type": "code",
   "execution_count": 56,
   "id": "addressed-welding",
   "metadata": {},
   "outputs": [],
   "source": [
    "import tensorflow as tf\n"
   ]
  },
  {
   "cell_type": "code",
   "execution_count": 42,
   "id": "atlantic-coordinator",
   "metadata": {},
   "outputs": [],
   "source": [
    "def euclidean(a, b, sqrt=False):\n",
    "    aTa = tf.linalg.diag_part(tf.matmul(a, tf.transpose(a)))\n",
    "    bTb = tf.linalg.diag_part(tf.matmul(b, tf.transpose(b)))\n",
    "    aTb = tf.matmul(a, tf.transpose(b))\n",
    "    ta = tf.reshape(aTa, [-1, 1])\n",
    "    tb = tf.reshape(bTb, [1, -1])\n",
    "    print(ta)\n",
    "    print(aTb.shape)\n",
    "    D = ta - 2.0 * aTb + tb\n",
    "    if sqrt:\n",
    "        D = tf.sqrt(D)\n",
    "    return D"
   ]
  },
  {
   "cell_type": "code",
   "execution_count": 68,
   "id": "through-venezuela",
   "metadata": {},
   "outputs": [
    {
     "name": "stdout",
     "output_type": "stream",
     "text": [
      "A:\n",
      " tf.Tensor(\n",
      "[[0 1]\n",
      " [2 3]\n",
      " [4 5]], shape=(3, 2), dtype=int32)\n",
      "B:\n",
      " tf.Tensor([[8 9]], shape=(1, 2), dtype=int32)\n"
     ]
    }
   ],
   "source": [
    "A = tf.range(6)\n",
    "\n",
    "A = tf.reshape(A, [3,2])\n",
    "\n",
    "print(\"A:\\n\", A)\n",
    "B = tf.convert_to_tensor([[8, 9]])  # 1 个样本的 B\n",
    "print(\"B:\\n\", B)\n",
    "\n",
    "\n",
    "\n",
    "aTa = tf.linalg.diag_part(tf.matmul(A, tf.transpose(A)))\n",
    "bTb = tf.linalg.diag_part(tf.matmul(B, tf.transpose(B)))\n",
    "aTb = tf.matmul(A, tf.transpose(B))\n",
    "ta = tf.reshape(aTa, [-1, 1])\n",
    "tb = tf.reshape(bTb, [1, -1])\n",
    "D = ta - 2 * aTb + tb"
   ]
  },
  {
   "cell_type": "code",
   "execution_count": 69,
   "id": "temporal-group",
   "metadata": {},
   "outputs": [
    {
     "data": {
      "text/plain": [
       "<tf.Tensor: shape=(3, 1), dtype=int32, numpy=\n",
       "array([[128],\n",
       "       [ 72],\n",
       "       [ 32]])>"
      ]
     },
     "execution_count": 69,
     "metadata": {},
     "output_type": "execute_result"
    }
   ],
   "source": [
    "D"
   ]
  },
  {
   "cell_type": "code",
   "execution_count": 40,
   "id": "insured-volume",
   "metadata": {},
   "outputs": [],
   "source": [
    "def EuclideanDistances(A, B):\n",
    "    BT = tf.transpose(B) \n",
    "    # vecProd = A * BT\n",
    "    vecProd = tf.matmul(A,BT)\n",
    "    # print(vecProd)\n",
    "    SqA =  A**2\n",
    "    # print(SqA)\n",
    "    print()\n",
    "    sumSqA = tf.sum(SqA, axis=1)\n",
    "    sumSqAEx = np.tile(sumSqA.transpose(), (1, vecProd.shape[1]))\n",
    "    # print(sumSqAEx)\n",
    " \n",
    "    SqB = B**2\n",
    "    sumSqB = np.sum(SqB, axis=1)\n",
    "    sumSqBEx = np.tile(sumSqB, (vecProd.shape[0], 1))    \n",
    "    SqED = sumSqBEx + sumSqAEx - 2*vecProd\n",
    "    SqED[SqED<0]=0.0   \n",
    "    ED = np.sqrt(SqED)\n",
    "    return ED"
   ]
  },
  {
   "cell_type": "code",
   "execution_count": 41,
   "id": "automated-longitude",
   "metadata": {},
   "outputs": [
    {
     "name": "stdout",
     "output_type": "stream",
     "text": [
      "A:\n",
      " tf.Tensor(\n",
      "[[0 1]\n",
      " [2 3]\n",
      " [4 5]], shape=(3, 2), dtype=int32)\n",
      "B:\n",
      " tf.Tensor([[8 9]], shape=(1, 2), dtype=int32)\n",
      "\n"
     ]
    },
    {
     "ename": "AttributeError",
     "evalue": "module 'tensorflow' has no attribute 'sum'",
     "output_type": "error",
     "traceback": [
      "\u001b[1;31m---------------------------------------------------------------------------\u001b[0m",
      "\u001b[1;31mAttributeError\u001b[0m                            Traceback (most recent call last)",
      "\u001b[1;32m<ipython-input-41-e240133cceb2>\u001b[0m in \u001b[0;36m<module>\u001b[1;34m\u001b[0m\n\u001b[0;32m      7\u001b[0m \u001b[0mprint\u001b[0m\u001b[1;33m(\u001b[0m\u001b[1;34m\"B:\\n\"\u001b[0m\u001b[1;33m,\u001b[0m \u001b[0mB\u001b[0m\u001b[1;33m)\u001b[0m\u001b[1;33m\u001b[0m\u001b[1;33m\u001b[0m\u001b[0m\n\u001b[0;32m      8\u001b[0m \u001b[1;33m\u001b[0m\u001b[0m\n\u001b[1;32m----> 9\u001b[1;33m \u001b[0mD\u001b[0m \u001b[1;33m=\u001b[0m \u001b[0mEuclideanDistances\u001b[0m\u001b[1;33m(\u001b[0m\u001b[0mA\u001b[0m\u001b[1;33m,\u001b[0m \u001b[0mB\u001b[0m\u001b[1;33m)\u001b[0m\u001b[1;33m\u001b[0m\u001b[1;33m\u001b[0m\u001b[0m\n\u001b[0m\u001b[0;32m     10\u001b[0m \u001b[0mprint\u001b[0m\u001b[1;33m(\u001b[0m\u001b[1;34m\"距离:\\n\"\u001b[0m\u001b[1;33m,\u001b[0m \u001b[0mD\u001b[0m\u001b[1;33m)\u001b[0m\u001b[1;33m\u001b[0m\u001b[1;33m\u001b[0m\u001b[0m\n",
      "\u001b[1;32m<ipython-input-40-28c768fc958d>\u001b[0m in \u001b[0;36mEuclideanDistances\u001b[1;34m(A, B)\u001b[0m\n\u001b[0;32m      7\u001b[0m     \u001b[1;31m# print(SqA)\u001b[0m\u001b[1;33m\u001b[0m\u001b[1;33m\u001b[0m\u001b[1;33m\u001b[0m\u001b[0m\n\u001b[0;32m      8\u001b[0m     \u001b[0mprint\u001b[0m\u001b[1;33m(\u001b[0m\u001b[1;33m)\u001b[0m\u001b[1;33m\u001b[0m\u001b[1;33m\u001b[0m\u001b[0m\n\u001b[1;32m----> 9\u001b[1;33m     \u001b[0msumSqA\u001b[0m \u001b[1;33m=\u001b[0m \u001b[0mtf\u001b[0m\u001b[1;33m.\u001b[0m\u001b[0msum\u001b[0m\u001b[1;33m(\u001b[0m\u001b[0mSqA\u001b[0m\u001b[1;33m,\u001b[0m \u001b[0maxis\u001b[0m\u001b[1;33m=\u001b[0m\u001b[1;36m1\u001b[0m\u001b[1;33m)\u001b[0m\u001b[1;33m\u001b[0m\u001b[1;33m\u001b[0m\u001b[0m\n\u001b[0m\u001b[0;32m     10\u001b[0m     \u001b[0msumSqAEx\u001b[0m \u001b[1;33m=\u001b[0m \u001b[0mnp\u001b[0m\u001b[1;33m.\u001b[0m\u001b[0mtile\u001b[0m\u001b[1;33m(\u001b[0m\u001b[0msumSqA\u001b[0m\u001b[1;33m.\u001b[0m\u001b[0mtranspose\u001b[0m\u001b[1;33m(\u001b[0m\u001b[1;33m)\u001b[0m\u001b[1;33m,\u001b[0m \u001b[1;33m(\u001b[0m\u001b[1;36m1\u001b[0m\u001b[1;33m,\u001b[0m \u001b[0mvecProd\u001b[0m\u001b[1;33m.\u001b[0m\u001b[0mshape\u001b[0m\u001b[1;33m[\u001b[0m\u001b[1;36m1\u001b[0m\u001b[1;33m]\u001b[0m\u001b[1;33m)\u001b[0m\u001b[1;33m)\u001b[0m\u001b[1;33m\u001b[0m\u001b[1;33m\u001b[0m\u001b[0m\n\u001b[0;32m     11\u001b[0m     \u001b[1;31m# print(sumSqAEx)\u001b[0m\u001b[1;33m\u001b[0m\u001b[1;33m\u001b[0m\u001b[1;33m\u001b[0m\u001b[0m\n",
      "\u001b[1;31mAttributeError\u001b[0m: module 'tensorflow' has no attribute 'sum'"
     ]
    }
   ],
   "source": [
    "A = tf.range(6)\n",
    "\n",
    "A = tf.reshape(A, [3,2])\n",
    "\n",
    "print(\"A:\\n\", A)\n",
    "B = tf.convert_to_tensor([[8, 9]])  # 1 个样本的 B\n",
    "print(\"B:\\n\", B)\n",
    "\n",
    "D = EuclideanDistances(A, B)\n",
    "print(\"距离:\\n\", D)\n"
   ]
  },
  {
   "cell_type": "code",
   "execution_count": 1,
   "id": "hispanic-south",
   "metadata": {},
   "outputs": [],
   "source": [
    "import torch\n",
    "\n",
    "def euclidean(a, b, sqrt=False):\n",
    "    aTa = torch.diag(torch.matmul(a, a.t()))\n",
    "    bTb = torch.diag(torch.matmul(b, b.t()))\n",
    "    aTb = torch.matmul(a, b.t())\n",
    "    D = aTa.view(-1, 1) - 2.0 * aTb + bTb.view(1, -1)\n",
    "    if sqrt:\n",
    "        D = torch.sqrt(D)\n",
    "    return D\n",
    "\n",
    "\n"
   ]
  },
  {
   "cell_type": "code",
   "execution_count": 3,
   "id": "norman-governor",
   "metadata": {},
   "outputs": [
    {
     "name": "stdout",
     "output_type": "stream",
     "text": [
      "A:\n",
      " tensor([[0, 1],\n",
      "        [2, 3],\n",
      "        [4, 5]])\n",
      "B:\n",
      " tensor([[8, 9]])\n"
     ]
    }
   ],
   "source": [
    "A = torch.arange(6).reshape(3, 2)  # 3 个样本的 A\n",
    "print(\"A:\\n\", A)\n",
    "B = torch.tensor([[8, 9]])  # 1 个样本的 B\n",
    "print(\"B:\\n\", B)\n",
    "\n",
    "aTa = torch.diag(torch.matmul(A, A.t()))\n",
    "bTb = torch.diag(torch.matmul(B, B.t()))\n",
    "aTb = torch.matmul(A, B.t())\n",
    "D = aTa.view(-1, 1) - 2.0 * aTb + bTb.view(1, -1)\n"
   ]
  },
  {
   "cell_type": "code",
   "execution_count": 4,
   "id": "subjective-substitute",
   "metadata": {},
   "outputs": [
    {
     "data": {
      "text/plain": [
       "tensor([ 1, 13, 41])"
      ]
     },
     "execution_count": 4,
     "metadata": {},
     "output_type": "execute_result"
    }
   ],
   "source": [
    "aTa"
   ]
  }
 ],
 "metadata": {
  "kernelspec": {
   "display_name": "Python 3",
   "language": "python",
   "name": "python3"
  },
  "language_info": {
   "codemirror_mode": {
    "name": "ipython",
    "version": 3
   },
   "file_extension": ".py",
   "mimetype": "text/x-python",
   "name": "python",
   "nbconvert_exporter": "python",
   "pygments_lexer": "ipython3",
   "version": "3.7.10"
  }
 },
 "nbformat": 4,
 "nbformat_minor": 5
}
